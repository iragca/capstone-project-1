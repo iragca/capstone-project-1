{
 "cells": [
  {
   "cell_type": "code",
   "execution_count": 10,
   "metadata": {},
   "outputs": [],
   "source": [
    "import polars as pl\n",
    "\n",
    "from capstone_project_1.config import EXTERNAL_DATA_DIR, REPORTS_DIR"
   ]
  },
  {
   "cell_type": "markdown",
   "metadata": {},
   "source": [
    "## Data\n",
    "\n",
    "About the data:\n",
    "\n",
    "- fhv: **For-Hire Vehicle** trip records\n",
    "- fhvhv: **High Volume For-Hire Vehicle** trip records\n",
    "- green: **Green** colored taxis\n",
    "- yellow: **Yellow** color taxis\n",
    "\n",
    "Official Data Dictionaries:\n",
    "\n",
    "- https://www.nyc.gov/assets/tlc/downloads/pdf/trip_record_user_guide.pdf\n",
    "- https://www.nyc.gov/assets/tlc/downloads/pdf/data_dictionary_trip_records_yellow.pdf\n",
    "- https://www.nyc.gov/assets/tlc/downloads/pdf/data_dictionary_trip_records_green.pdf\n",
    "- https://www.nyc.gov/assets/tlc/downloads/pdf/data_dictionary_trip_records_fhv.pdf\n",
    "- https://www.nyc.gov/assets/tlc/downloads/pdf/data_dictionary_trip_records_hvfhs.pdf"
   ]
  },
  {
   "cell_type": "code",
   "execution_count": null,
   "metadata": {},
   "outputs": [],
   "source": [
    "# Load the data\n",
    "fhv = pl.read_parquet(EXTERNAL_DATA_DIR / \"ny-taxi-data\" / \"fhv_tripdata_2024-11.parquet\")\n",
    "fhvhv = pl.read_parquet(EXTERNAL_DATA_DIR / \"ny-taxi-data\" / \"fhvhv_tripdata_2024-11.parquet\")\n",
    "green = pl.read_parquet(EXTERNAL_DATA_DIR / \"ny-taxi-data\" / \"green_tripdata_2024-11.parquet\")\n",
    "yellow = pl.read_parquet(EXTERNAL_DATA_DIR / \"ny-taxi-data\" / \"yellow_tripdata_2024-11.parquet\")"
   ]
  },
  {
   "cell_type": "code",
   "execution_count": 3,
   "metadata": {},
   "outputs": [
    {
     "data": {
      "text/html": [
       "<div><style>\n",
       ".dataframe > thead > tr,\n",
       ".dataframe > tbody > tr {\n",
       "  text-align: right;\n",
       "  white-space: pre-wrap;\n",
       "}\n",
       "</style>\n",
       "<small>shape: (5, 7)</small><table border=\"1\" class=\"dataframe\"><thead><tr><th>dispatching_base_num</th><th>pickup_datetime</th><th>dropOff_datetime</th><th>PUlocationID</th><th>DOlocationID</th><th>SR_Flag</th><th>Affiliated_base_number</th></tr><tr><td>str</td><td>datetime[μs]</td><td>datetime[μs]</td><td>i64</td><td>i64</td><td>i64</td><td>str</td></tr></thead><tbody><tr><td>&quot;B00008&quot;</td><td>2024-11-01 00:24:00</td><td>2024-11-01 00:44:00</td><td>null</td><td>null</td><td>null</td><td>&quot;B00008&quot;</td></tr><tr><td>&quot;B00008&quot;</td><td>2024-11-01 00:30:00</td><td>2024-11-01 01:00:00</td><td>null</td><td>null</td><td>null</td><td>&quot;B00008&quot;</td></tr><tr><td>&quot;B00013&quot;</td><td>2024-11-01 00:30:00</td><td>2024-11-01 01:15:00</td><td>null</td><td>null</td><td>null</td><td>&quot;B00381&quot;</td></tr><tr><td>&quot;B00014&quot;</td><td>2024-11-01 00:01:00</td><td>2024-11-01 00:40:00</td><td>null</td><td>null</td><td>null</td><td>&quot;B01875&quot;</td></tr><tr><td>&quot;B00112&quot;</td><td>2024-11-01 00:47:42</td><td>2024-11-01 00:52:11</td><td>null</td><td>14</td><td>null</td><td>&quot;B00112&quot;</td></tr></tbody></table></div>"
      ],
      "text/plain": [
       "shape: (5, 7)\n",
       "┌──────────────┬──────────────┬──────────────┬──────────────┬──────────────┬─────────┬─────────────┐\n",
       "│ dispatching_ ┆ pickup_datet ┆ dropOff_date ┆ PUlocationID ┆ DOlocationID ┆ SR_Flag ┆ Affiliated_ │\n",
       "│ base_num     ┆ ime          ┆ time         ┆ ---          ┆ ---          ┆ ---     ┆ base_number │\n",
       "│ ---          ┆ ---          ┆ ---          ┆ i64          ┆ i64          ┆ i64     ┆ ---         │\n",
       "│ str          ┆ datetime[μs] ┆ datetime[μs] ┆              ┆              ┆         ┆ str         │\n",
       "╞══════════════╪══════════════╪══════════════╪══════════════╪══════════════╪═════════╪═════════════╡\n",
       "│ B00008       ┆ 2024-11-01   ┆ 2024-11-01   ┆ null         ┆ null         ┆ null    ┆ B00008      │\n",
       "│              ┆ 00:24:00     ┆ 00:44:00     ┆              ┆              ┆         ┆             │\n",
       "│ B00008       ┆ 2024-11-01   ┆ 2024-11-01   ┆ null         ┆ null         ┆ null    ┆ B00008      │\n",
       "│              ┆ 00:30:00     ┆ 01:00:00     ┆              ┆              ┆         ┆             │\n",
       "│ B00013       ┆ 2024-11-01   ┆ 2024-11-01   ┆ null         ┆ null         ┆ null    ┆ B00381      │\n",
       "│              ┆ 00:30:00     ┆ 01:15:00     ┆              ┆              ┆         ┆             │\n",
       "│ B00014       ┆ 2024-11-01   ┆ 2024-11-01   ┆ null         ┆ null         ┆ null    ┆ B01875      │\n",
       "│              ┆ 00:01:00     ┆ 00:40:00     ┆              ┆              ┆         ┆             │\n",
       "│ B00112       ┆ 2024-11-01   ┆ 2024-11-01   ┆ null         ┆ 14           ┆ null    ┆ B00112      │\n",
       "│              ┆ 00:47:42     ┆ 00:52:11     ┆              ┆              ┆         ┆             │\n",
       "└──────────────┴──────────────┴──────────────┴──────────────┴──────────────┴─────────┴─────────────┘"
      ]
     },
     "execution_count": 3,
     "metadata": {},
     "output_type": "execute_result"
    }
   ],
   "source": [
    "fhv.head()"
   ]
  },
  {
   "cell_type": "code",
   "execution_count": 4,
   "metadata": {},
   "outputs": [],
   "source": [
    "\n",
    "fhvhv = fhvhv.with_columns([\n",
    "    pl.col(\"DOLocationID\").cast(pl.UInt16),\n",
    "    pl.col(\"PULocationID\").cast(pl.UInt16),\n",
    "    pl.col(\"trip_miles\").cast(pl.Float32),\n",
    "    pl.col(\"trip_time\").cast(pl.UInt16),\n",
    "    pl.col(\"base_passenger_fare\").cast(pl.Float32),\n",
    "    pl.col(\"tolls\").cast(pl.Float32),\n",
    "    pl.col(\"bcf\").cast(pl.Float32),\n",
    "    pl.col(\"sales_tax\").cast(pl.Float32),\n",
    "    pl.col(\"airport_fee\").cast(pl.Float32),\n",
    "    pl.col(\"tips\").cast(pl.Float32),\n",
    "    pl.col(\"driver_pay\").cast(pl.Float32),\n",
    "])\n"
   ]
  },
  {
   "cell_type": "code",
   "execution_count": 6,
   "metadata": {},
   "outputs": [
    {
     "data": {
      "text/html": [
       "<div><style>\n",
       ".dataframe > thead > tr,\n",
       ".dataframe > tbody > tr {\n",
       "  text-align: right;\n",
       "  white-space: pre-wrap;\n",
       "}\n",
       "</style>\n",
       "<small>shape: (1, 24)</small><table border=\"1\" class=\"dataframe\"><thead><tr><th>hvfhs_license_num</th><th>dispatching_base_num</th><th>originating_base_num</th><th>request_datetime</th><th>on_scene_datetime</th><th>pickup_datetime</th><th>dropoff_datetime</th><th>PULocationID</th><th>DOLocationID</th><th>trip_miles</th><th>trip_time</th><th>base_passenger_fare</th><th>tolls</th><th>bcf</th><th>sales_tax</th><th>congestion_surcharge</th><th>airport_fee</th><th>tips</th><th>driver_pay</th><th>shared_request_flag</th><th>shared_match_flag</th><th>access_a_ride_flag</th><th>wav_request_flag</th><th>wav_match_flag</th></tr><tr><td>str</td><td>str</td><td>str</td><td>datetime[μs]</td><td>datetime[μs]</td><td>datetime[μs]</td><td>datetime[μs]</td><td>u16</td><td>u16</td><td>f32</td><td>u16</td><td>f32</td><td>f32</td><td>f32</td><td>f32</td><td>f64</td><td>f32</td><td>f32</td><td>f32</td><td>str</td><td>str</td><td>str</td><td>str</td><td>str</td></tr></thead><tbody><tr><td>&quot;HV0003&quot;</td><td>&quot;B03404&quot;</td><td>&quot;B03404&quot;</td><td>2024-10-31 23:53:04</td><td>2024-11-01 00:02:38</td><td>2024-11-01 00:02:38</td><td>2024-11-01 00:27:46</td><td>87</td><td>170</td><td>4.79</td><td>1508</td><td>29.379999</td><td>0.0</td><td>0.86</td><td>2.77</td><td>2.75</td><td>0.0</td><td>0.0</td><td>31.889999</td><td>&quot;N&quot;</td><td>&quot;N&quot;</td><td>&quot;N&quot;</td><td>&quot;N&quot;</td><td>&quot;N&quot;</td></tr></tbody></table></div>"
      ],
      "text/plain": [
       "shape: (1, 24)\n",
       "┌───────────┬───────────┬───────────┬───────────┬───┬───────────┬───────────┬───────────┬──────────┐\n",
       "│ hvfhs_lic ┆ dispatchi ┆ originati ┆ request_d ┆ … ┆ shared_ma ┆ access_a_ ┆ wav_reque ┆ wav_matc │\n",
       "│ ense_num  ┆ ng_base_n ┆ ng_base_n ┆ atetime   ┆   ┆ tch_flag  ┆ ride_flag ┆ st_flag   ┆ h_flag   │\n",
       "│ ---       ┆ um        ┆ um        ┆ ---       ┆   ┆ ---       ┆ ---       ┆ ---       ┆ ---      │\n",
       "│ str       ┆ ---       ┆ ---       ┆ datetime[ ┆   ┆ str       ┆ str       ┆ str       ┆ str      │\n",
       "│           ┆ str       ┆ str       ┆ μs]       ┆   ┆           ┆           ┆           ┆          │\n",
       "╞═══════════╪═══════════╪═══════════╪═══════════╪═══╪═══════════╪═══════════╪═══════════╪══════════╡\n",
       "│ HV0003    ┆ B03404    ┆ B03404    ┆ 2024-10-3 ┆ … ┆ N         ┆ N         ┆ N         ┆ N        │\n",
       "│           ┆           ┆           ┆ 1         ┆   ┆           ┆           ┆           ┆          │\n",
       "│           ┆           ┆           ┆ 23:53:04  ┆   ┆           ┆           ┆           ┆          │\n",
       "└───────────┴───────────┴───────────┴───────────┴───┴───────────┴───────────┴───────────┴──────────┘"
      ]
     },
     "execution_count": 6,
     "metadata": {},
     "output_type": "execute_result"
    }
   ],
   "source": [
    "fhvhv.head(1)"
   ]
  },
  {
   "cell_type": "code",
   "execution_count": 7,
   "metadata": {},
   "outputs": [
    {
     "data": {
      "text/html": [
       "<div><style>\n",
       ".dataframe > thead > tr,\n",
       ".dataframe > tbody > tr {\n",
       "  text-align: right;\n",
       "  white-space: pre-wrap;\n",
       "}\n",
       "</style>\n",
       "<small>shape: (5, 20)</small><table border=\"1\" class=\"dataframe\"><thead><tr><th>VendorID</th><th>lpep_pickup_datetime</th><th>lpep_dropoff_datetime</th><th>store_and_fwd_flag</th><th>RatecodeID</th><th>PULocationID</th><th>DOLocationID</th><th>passenger_count</th><th>trip_distance</th><th>fare_amount</th><th>extra</th><th>mta_tax</th><th>tip_amount</th><th>tolls_amount</th><th>ehail_fee</th><th>improvement_surcharge</th><th>total_amount</th><th>payment_type</th><th>trip_type</th><th>congestion_surcharge</th></tr><tr><td>i32</td><td>datetime[μs]</td><td>datetime[μs]</td><td>str</td><td>i64</td><td>i32</td><td>i32</td><td>i64</td><td>f64</td><td>f64</td><td>f64</td><td>f64</td><td>f64</td><td>f64</td><td>f64</td><td>f64</td><td>f64</td><td>i64</td><td>i64</td><td>f64</td></tr></thead><tbody><tr><td>2</td><td>2024-11-01 00:09:19</td><td>2024-11-01 00:49:44</td><td>&quot;N&quot;</td><td>5</td><td>97</td><td>50</td><td>1</td><td>6.68</td><td>65.0</td><td>0.0</td><td>0.0</td><td>0.0</td><td>0.0</td><td>null</td><td>1.0</td><td>68.75</td><td>1</td><td>2</td><td>2.75</td></tr><tr><td>2</td><td>2024-11-01 00:28:47</td><td>2024-11-01 00:34:16</td><td>&quot;N&quot;</td><td>1</td><td>166</td><td>41</td><td>1</td><td>1.44</td><td>8.6</td><td>1.0</td><td>0.5</td><td>3.0</td><td>0.0</td><td>null</td><td>1.0</td><td>14.1</td><td>1</td><td>1</td><td>0.0</td></tr><tr><td>2</td><td>2024-11-01 00:24:54</td><td>2024-11-01 00:26:55</td><td>&quot;N&quot;</td><td>1</td><td>129</td><td>82</td><td>1</td><td>0.21</td><td>4.4</td><td>1.0</td><td>0.5</td><td>0.0</td><td>0.0</td><td>null</td><td>1.0</td><td>6.9</td><td>2</td><td>1</td><td>0.0</td></tr><tr><td>1</td><td>2024-11-01 00:03:21</td><td>2024-11-01 00:43:38</td><td>&quot;N&quot;</td><td>1</td><td>66</td><td>164</td><td>2</td><td>6.6</td><td>38.7</td><td>3.75</td><td>1.5</td><td>10.0</td><td>0.0</td><td>null</td><td>1.0</td><td>53.95</td><td>1</td><td>1</td><td>2.75</td></tr><tr><td>2</td><td>2024-11-01 00:05:54</td><td>2024-11-01 00:12:42</td><td>&quot;N&quot;</td><td>1</td><td>83</td><td>83</td><td>1</td><td>0.97</td><td>8.6</td><td>1.0</td><td>0.5</td><td>2.22</td><td>0.0</td><td>null</td><td>1.0</td><td>13.32</td><td>1</td><td>1</td><td>0.0</td></tr></tbody></table></div>"
      ],
      "text/plain": [
       "shape: (5, 20)\n",
       "┌──────────┬───────────┬───────────┬───────────┬───┬───────────┬───────────┬───────────┬───────────┐\n",
       "│ VendorID ┆ lpep_pick ┆ lpep_drop ┆ store_and ┆ … ┆ total_amo ┆ payment_t ┆ trip_type ┆ congestio │\n",
       "│ ---      ┆ up_dateti ┆ off_datet ┆ _fwd_flag ┆   ┆ unt       ┆ ype       ┆ ---       ┆ n_surchar │\n",
       "│ i32      ┆ me        ┆ ime       ┆ ---       ┆   ┆ ---       ┆ ---       ┆ i64       ┆ ge        │\n",
       "│          ┆ ---       ┆ ---       ┆ str       ┆   ┆ f64       ┆ i64       ┆           ┆ ---       │\n",
       "│          ┆ datetime[ ┆ datetime[ ┆           ┆   ┆           ┆           ┆           ┆ f64       │\n",
       "│          ┆ μs]       ┆ μs]       ┆           ┆   ┆           ┆           ┆           ┆           │\n",
       "╞══════════╪═══════════╪═══════════╪═══════════╪═══╪═══════════╪═══════════╪═══════════╪═══════════╡\n",
       "│ 2        ┆ 2024-11-0 ┆ 2024-11-0 ┆ N         ┆ … ┆ 68.75     ┆ 1         ┆ 2         ┆ 2.75      │\n",
       "│          ┆ 1         ┆ 1         ┆           ┆   ┆           ┆           ┆           ┆           │\n",
       "│          ┆ 00:09:19  ┆ 00:49:44  ┆           ┆   ┆           ┆           ┆           ┆           │\n",
       "│ 2        ┆ 2024-11-0 ┆ 2024-11-0 ┆ N         ┆ … ┆ 14.1      ┆ 1         ┆ 1         ┆ 0.0       │\n",
       "│          ┆ 1         ┆ 1         ┆           ┆   ┆           ┆           ┆           ┆           │\n",
       "│          ┆ 00:28:47  ┆ 00:34:16  ┆           ┆   ┆           ┆           ┆           ┆           │\n",
       "│ 2        ┆ 2024-11-0 ┆ 2024-11-0 ┆ N         ┆ … ┆ 6.9       ┆ 2         ┆ 1         ┆ 0.0       │\n",
       "│          ┆ 1         ┆ 1         ┆           ┆   ┆           ┆           ┆           ┆           │\n",
       "│          ┆ 00:24:54  ┆ 00:26:55  ┆           ┆   ┆           ┆           ┆           ┆           │\n",
       "│ 1        ┆ 2024-11-0 ┆ 2024-11-0 ┆ N         ┆ … ┆ 53.95     ┆ 1         ┆ 1         ┆ 2.75      │\n",
       "│          ┆ 1         ┆ 1         ┆           ┆   ┆           ┆           ┆           ┆           │\n",
       "│          ┆ 00:03:21  ┆ 00:43:38  ┆           ┆   ┆           ┆           ┆           ┆           │\n",
       "│ 2        ┆ 2024-11-0 ┆ 2024-11-0 ┆ N         ┆ … ┆ 13.32     ┆ 1         ┆ 1         ┆ 0.0       │\n",
       "│          ┆ 1         ┆ 1         ┆           ┆   ┆           ┆           ┆           ┆           │\n",
       "│          ┆ 00:05:54  ┆ 00:12:42  ┆           ┆   ┆           ┆           ┆           ┆           │\n",
       "└──────────┴───────────┴───────────┴───────────┴───┴───────────┴───────────┴───────────┴───────────┘"
      ]
     },
     "execution_count": 7,
     "metadata": {},
     "output_type": "execute_result"
    }
   ],
   "source": [
    "green.head()"
   ]
  },
  {
   "cell_type": "code",
   "execution_count": 8,
   "metadata": {},
   "outputs": [
    {
     "data": {
      "text/html": [
       "<div><style>\n",
       ".dataframe > thead > tr,\n",
       ".dataframe > tbody > tr {\n",
       "  text-align: right;\n",
       "  white-space: pre-wrap;\n",
       "}\n",
       "</style>\n",
       "<small>shape: (5, 19)</small><table border=\"1\" class=\"dataframe\"><thead><tr><th>VendorID</th><th>tpep_pickup_datetime</th><th>tpep_dropoff_datetime</th><th>passenger_count</th><th>trip_distance</th><th>RatecodeID</th><th>store_and_fwd_flag</th><th>PULocationID</th><th>DOLocationID</th><th>payment_type</th><th>fare_amount</th><th>extra</th><th>mta_tax</th><th>tip_amount</th><th>tolls_amount</th><th>improvement_surcharge</th><th>total_amount</th><th>congestion_surcharge</th><th>Airport_fee</th></tr><tr><td>i32</td><td>datetime[μs]</td><td>datetime[μs]</td><td>i64</td><td>f64</td><td>i64</td><td>str</td><td>i32</td><td>i32</td><td>i64</td><td>f64</td><td>f64</td><td>f64</td><td>f64</td><td>f64</td><td>f64</td><td>f64</td><td>f64</td><td>f64</td></tr></thead><tbody><tr><td>2</td><td>2024-11-01 00:46:24</td><td>2024-11-01 00:57:17</td><td>1</td><td>1.93</td><td>1</td><td>&quot;N&quot;</td><td>239</td><td>262</td><td>2</td><td>-12.8</td><td>-1.0</td><td>-0.5</td><td>0.0</td><td>0.0</td><td>-1.0</td><td>-17.8</td><td>-2.5</td><td>0.0</td></tr><tr><td>2</td><td>2024-11-01 00:46:24</td><td>2024-11-01 00:57:17</td><td>1</td><td>1.93</td><td>1</td><td>&quot;N&quot;</td><td>239</td><td>263</td><td>2</td><td>12.8</td><td>1.0</td><td>0.5</td><td>0.0</td><td>0.0</td><td>1.0</td><td>17.8</td><td>2.5</td><td>0.0</td></tr><tr><td>1</td><td>2024-11-01 00:37:36</td><td>2024-11-01 01:28:36</td><td>1</td><td>34.3</td><td>5</td><td>&quot;N&quot;</td><td>219</td><td>265</td><td>1</td><td>259.0</td><td>0.0</td><td>0.0</td><td>15.0</td><td>0.0</td><td>1.0</td><td>275.0</td><td>0.0</td><td>0.0</td></tr><tr><td>2</td><td>2024-11-01 00:12:55</td><td>2024-11-01 00:22:17</td><td>2</td><td>0.93</td><td>1</td><td>&quot;N&quot;</td><td>186</td><td>107</td><td>1</td><td>10.0</td><td>1.0</td><td>0.5</td><td>1.0</td><td>0.0</td><td>1.0</td><td>16.0</td><td>2.5</td><td>0.0</td></tr><tr><td>2</td><td>2024-11-01 00:54:45</td><td>2024-11-01 00:59:47</td><td>1</td><td>0.38</td><td>1</td><td>&quot;N&quot;</td><td>79</td><td>79</td><td>1</td><td>6.5</td><td>1.0</td><td>0.5</td><td>1.0</td><td>0.0</td><td>1.0</td><td>12.5</td><td>2.5</td><td>0.0</td></tr></tbody></table></div>"
      ],
      "text/plain": [
       "shape: (5, 19)\n",
       "┌──────────┬───────────┬───────────┬───────────┬───┬───────────┬───────────┬───────────┬───────────┐\n",
       "│ VendorID ┆ tpep_pick ┆ tpep_drop ┆ passenger ┆ … ┆ improveme ┆ total_amo ┆ congestio ┆ Airport_f │\n",
       "│ ---      ┆ up_dateti ┆ off_datet ┆ _count    ┆   ┆ nt_surcha ┆ unt       ┆ n_surchar ┆ ee        │\n",
       "│ i32      ┆ me        ┆ ime       ┆ ---       ┆   ┆ rge       ┆ ---       ┆ ge        ┆ ---       │\n",
       "│          ┆ ---       ┆ ---       ┆ i64       ┆   ┆ ---       ┆ f64       ┆ ---       ┆ f64       │\n",
       "│          ┆ datetime[ ┆ datetime[ ┆           ┆   ┆ f64       ┆           ┆ f64       ┆           │\n",
       "│          ┆ μs]       ┆ μs]       ┆           ┆   ┆           ┆           ┆           ┆           │\n",
       "╞══════════╪═══════════╪═══════════╪═══════════╪═══╪═══════════╪═══════════╪═══════════╪═══════════╡\n",
       "│ 2        ┆ 2024-11-0 ┆ 2024-11-0 ┆ 1         ┆ … ┆ -1.0      ┆ -17.8     ┆ -2.5      ┆ 0.0       │\n",
       "│          ┆ 1         ┆ 1         ┆           ┆   ┆           ┆           ┆           ┆           │\n",
       "│          ┆ 00:46:24  ┆ 00:57:17  ┆           ┆   ┆           ┆           ┆           ┆           │\n",
       "│ 2        ┆ 2024-11-0 ┆ 2024-11-0 ┆ 1         ┆ … ┆ 1.0       ┆ 17.8      ┆ 2.5       ┆ 0.0       │\n",
       "│          ┆ 1         ┆ 1         ┆           ┆   ┆           ┆           ┆           ┆           │\n",
       "│          ┆ 00:46:24  ┆ 00:57:17  ┆           ┆   ┆           ┆           ┆           ┆           │\n",
       "│ 1        ┆ 2024-11-0 ┆ 2024-11-0 ┆ 1         ┆ … ┆ 1.0       ┆ 275.0     ┆ 0.0       ┆ 0.0       │\n",
       "│          ┆ 1         ┆ 1         ┆           ┆   ┆           ┆           ┆           ┆           │\n",
       "│          ┆ 00:37:36  ┆ 01:28:36  ┆           ┆   ┆           ┆           ┆           ┆           │\n",
       "│ 2        ┆ 2024-11-0 ┆ 2024-11-0 ┆ 2         ┆ … ┆ 1.0       ┆ 16.0      ┆ 2.5       ┆ 0.0       │\n",
       "│          ┆ 1         ┆ 1         ┆           ┆   ┆           ┆           ┆           ┆           │\n",
       "│          ┆ 00:12:55  ┆ 00:22:17  ┆           ┆   ┆           ┆           ┆           ┆           │\n",
       "│ 2        ┆ 2024-11-0 ┆ 2024-11-0 ┆ 1         ┆ … ┆ 1.0       ┆ 12.5      ┆ 2.5       ┆ 0.0       │\n",
       "│          ┆ 1         ┆ 1         ┆           ┆   ┆           ┆           ┆           ┆           │\n",
       "│          ┆ 00:54:45  ┆ 00:59:47  ┆           ┆   ┆           ┆           ┆           ┆           │\n",
       "└──────────┴───────────┴───────────┴───────────┴───┴───────────┴───────────┴───────────┴───────────┘"
      ]
     },
     "execution_count": 8,
     "metadata": {},
     "output_type": "execute_result"
    }
   ],
   "source": [
    "yellow.head()"
   ]
  },
  {
   "cell_type": "markdown",
   "metadata": {},
   "source": [
    "## Automated Exploratory Data Analysis"
   ]
  },
  {
   "cell_type": "code",
   "execution_count": null,
   "metadata": {},
   "outputs": [],
   "source": [
    "from ydata_profiling import ProfileReport\n",
    "\n",
    "# Profile the data\n",
    "fhv_profile = ProfileReport(\n",
    "    fhv.to_pandas(),\n",
    "    title=\"For-Hire Vehicle (FHV) Data\",\n",
    "    dataset={\n",
    "        \"url\": \"https://d37ci6vzurychx.cloudfront.net/trip-data/fhv_tripdata_2024-11.parquet\"\n",
    "    },\n",
    ")\n",
    "fhvhv_profile = ProfileReport(\n",
    "    fhvhv.to_pandas(),\n",
    "    title=\"High Volume For-Hire Vehicle (FHVHV) Data\",\n",
    "    dataset={\n",
    "        \"url\": \"https://d37ci6vzurychx.cloudfront.net/trip-data/fhvhv_tripdata_2024-11.parquet\"\n",
    "    },\n",
    ")\n",
    "green_profile = ProfileReport(\n",
    "    green.to_pandas(),\n",
    "    title=\"Green Taxi Data\",\n",
    "    dataset={\n",
    "        \"url\": \"https://d37ci6vzurychx.cloudfront.net/trip-data/green_tripdata_2024-11.parquet\"\n",
    "    },\n",
    ")\n",
    "yellow_profile = ProfileReport(\n",
    "    yellow.to_pandas(),\n",
    "    title=\"Yellow Taxi Data\",\n",
    "    dataset={\n",
    "        \"url\": \"https://d37ci6vzurychx.cloudfront.net/trip-data/yellow_tripdata_2024-11.parquet\"\n",
    "    },\n",
    ")"
   ]
  },
  {
   "cell_type": "code",
   "execution_count": 9,
   "metadata": {},
   "outputs": [
    {
     "data": {
      "application/vnd.jupyter.widget-view+json": {
       "model_id": "3a507f994d64418d868cdc9dc0e237bb",
       "version_major": 2,
       "version_minor": 0
      },
      "text/plain": [
       "Summarize dataset:   0%|          | 0/5 [00:00<?, ?it/s]"
      ]
     },
     "metadata": {},
     "output_type": "display_data"
    },
    {
     "name": "stderr",
     "output_type": "stream",
     "text": [
      "d:\\Documents\\3 Production Save Files\\1 Cloned repositories\\capstone-project-1\\.venv\\lib\\site-packages\\matplotlib\\image.py:183: UserWarning: Data with more than 2**24 rows cannot be accurately displayed. Downsampling to less than 2**24 rows before displaying. To remove this warning, manually downsample your data.\n",
      "  warnings.warn(msg.format(n='2**24 rows'))\n"
     ]
    },
    {
     "data": {
      "application/vnd.jupyter.widget-view+json": {
       "model_id": "b573b2d841514132868b2d4111430f3e",
       "version_major": 2,
       "version_minor": 0
      },
      "text/plain": [
       "Generate report structure:   0%|          | 0/1 [00:00<?, ?it/s]"
      ]
     },
     "metadata": {},
     "output_type": "display_data"
    },
    {
     "data": {
      "application/vnd.jupyter.widget-view+json": {
       "model_id": "a77e69f008cf48c9a6d5a8a3fd6eeb18",
       "version_major": 2,
       "version_minor": 0
      },
      "text/plain": [
       "Render HTML:   0%|          | 0/1 [00:00<?, ?it/s]"
      ]
     },
     "metadata": {},
     "output_type": "display_data"
    },
    {
     "data": {
      "application/vnd.jupyter.widget-view+json": {
       "model_id": "f2c9a5550b90494f9f461a42123a98ac",
       "version_major": 2,
       "version_minor": 0
      },
      "text/plain": [
       "Export report to file:   0%|          | 0/1 [00:00<?, ?it/s]"
      ]
     },
     "metadata": {},
     "output_type": "display_data"
    }
   ],
   "source": [
    "# Save the reports\n",
    "save_path = REPORTS_DIR / \"ny-taxi-data\"\n",
    "if not save_path.exists():\n",
    "    save_path.mkdir(parents=True)\n",
    "\n",
    "fhv_profile.to_file(save_path / \"fhv_profile.html\")\n",
    "fhvhv_profile.to_file(save_path / \"fhvhv_profile.html\")\n",
    "green_profile.to_file(save_path / \"green_profile.html\")\n",
    "yellow_profile.to_file(save_path / \"yellow_profile.html\")"
   ]
  }
 ],
 "metadata": {
  "kernelspec": {
   "display_name": ".venv",
   "language": "python",
   "name": "python3"
  },
  "language_info": {
   "codemirror_mode": {
    "name": "ipython",
    "version": 3
   },
   "file_extension": ".py",
   "mimetype": "text/x-python",
   "name": "python",
   "nbconvert_exporter": "python",
   "pygments_lexer": "ipython3",
   "version": "3.10.7"
  }
 },
 "nbformat": 4,
 "nbformat_minor": 2
}
